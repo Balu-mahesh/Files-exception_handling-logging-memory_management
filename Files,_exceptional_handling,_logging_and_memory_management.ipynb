{
  "nbformat": 4,
  "nbformat_minor": 0,
  "metadata": {
    "colab": {
      "provenance": []
    },
    "kernelspec": {
      "name": "python3",
      "display_name": "Python 3"
    },
    "language_info": {
      "name": "python"
    }
  },
  "cells": [
    {
      "cell_type": "markdown",
      "source": [
        "# **THEORY QUESTIONS**"
      ],
      "metadata": {
        "id": "v2cgBg6d50ei"
      }
    },
    {
      "cell_type": "markdown",
      "source": [
        "**Q1) What is the difference between interpreted and compiled languages?**"
      ],
      "metadata": {
        "id": "_SpOvnBA54pF"
      }
    },
    {
      "cell_type": "markdown",
      "source": [
        "- The main difference between interpreted and compiled languages lies in how the source code is translated and executed by the machine.\n",
        "  - Compiled languages: The source code is translated into machine code or byte code by the compiler before the execution by the compiler. Then the compiled code is executed directly by the computer's processor. Compiled programs runs faster than the interpreted programs. Compiled languages delivers better performance. These languages do faster execution because the translation is done beforehand.\n",
        "  C, C++, C# are some compiled languages.\n",
        "  - Interpreted languages: In interpreted languages, the source code is executed line-by-line by an interpreter at runtime instead of being compiled into machine code beforehand. An interpreted language is generally interpreted, without compiling a program into machine instructions. It is one where the instructions are not directly executed by the target machine, but instead, read and executed by some other program. In this languages, all the debugging occurs at run-time. This language delivers relatively slower performance.\n",
        "  Python, Javascript are some interpreted languages."
      ],
      "metadata": {
        "id": "MoQ5aREx6GkO"
      }
    },
    {
      "cell_type": "markdown",
      "source": [
        "**Q2) What is exception handling in Python?**"
      ],
      "metadata": {
        "id": "rLbD2PDyAl2C"
      }
    },
    {
      "cell_type": "markdown",
      "source": [
        "- Exception handling in Python is a way to manage errors that occur during program execution, so the program doesn't crash. Python Exception Handling handles errors that occur during the execution of a program. Exception handling allows to respond to the error, instead of crashing the running program. It enables you to catch and manage errors, making your code more robust and user-friendly. Python handles the exception using try, except, else and finally blocks by providing the necessary instructions to handle them. Examples of exception can be: Dividing by zero, Accessing a file that doesn’t exist, Using a variable that hasn’t been defined."
      ],
      "metadata": {
        "id": "cOramupJCOGs"
      }
    },
    {
      "cell_type": "code",
      "source": [
        "# below is an example of exception handling.\n",
        "try:\n",
        "    num = int(input(\"Enter a number: \"))\n",
        "    result = 10 / num\n",
        "except ZeroDivisionError:\n",
        "    print(\"Cannot divide by zero.\")\n",
        "except ValueError:\n",
        "    print(\"Invalid input.\")\n",
        "else:\n",
        "    print(\"Result is:\", result)\n",
        "finally:\n",
        "    print(\"Execution complete.\")"
      ],
      "metadata": {
        "colab": {
          "base_uri": "https://localhost:8080/"
        },
        "id": "z8cpNCOmDOqc",
        "outputId": "870026cf-5d29-486a-e898-1e66c736d901"
      },
      "execution_count": null,
      "outputs": [
        {
          "output_type": "stream",
          "name": "stdout",
          "text": [
            "Enter a number: 0\n",
            "Cannot divide by zero.\n",
            "Execution complete.\n"
          ]
        }
      ]
    },
    {
      "cell_type": "markdown",
      "source": [
        "**Q3) What is the purpose of the finally block in exception handling?**"
      ],
      "metadata": {
        "id": "u7SNkPblDe5H"
      }
    },
    {
      "cell_type": "markdown",
      "source": [
        "- The purpose of the finally block in exception handling is to ensure that a specific block of code is always executed, regardless of whether an exception is thrown or caught within a corresponding try block and potentially exception blocks. It's primarily used for resource cleanup, like closing files or releasing network connections, guaranteeing these actions happen even if errors occur. This means any code within the finally block will run after the try block and any associated exception blocks completes its execution."
      ],
      "metadata": {
        "id": "xRxY6j5eFWzp"
      }
    },
    {
      "cell_type": "markdown",
      "source": [
        "**Q4) What is logging in Python?**"
      ],
      "metadata": {
        "id": "z4rnVE3IH5dp"
      }
    },
    {
      "cell_type": "markdown",
      "source": [
        "- Logging in Python is the process of recording messages that describe events happening in a program. It helps in tracking errors, debugging, and understanding the flow of execution. Logging in Python refers to the process of recording events that occur during the execution of a software program. It involves adding calls to the code that, when executed, generate messages containing information about the program's state, errors, warnings, or other significant events. With logging, you can leave a trail of breadcrumbs so that if something goes wrong, we can determine the cause of the problem.\n",
        "There are five built-in levels of the log message.\n",
        "  - Debug: These are used to give Detailed information, typically of interest only when diagnosing problems.\n",
        "  - Info: These are used to confirm that things are working as expected.\n",
        "  - Warning: These are used as an indication that something unexpected happened, or will happen.\n",
        "  - Error: This tells that due to a more serious problem, the software has not been able to perform some function.\n",
        "  - Critical: This tells serious error, indicating that the program itself may be unable to continue running because of this error."
      ],
      "metadata": {
        "id": "pmpynPuoIMU9"
      }
    },
    {
      "cell_type": "markdown",
      "source": [
        "**Q5) What is the significance of the __del__ method in Python?**"
      ],
      "metadata": {
        "id": "PpmnQfqzJBR-"
      }
    },
    {
      "cell_type": "markdown",
      "source": [
        "- __del__() method is called the destructor in Python. The most important use case for __del__() is to ensure that external resources acquired by an object are properly released when the object is no longer needed. This includes closing file handles, releasing network connections, freeing up memory allocated by C extensions, or releasing locks. It is basically used to clean up resources before an object is removed from memory, closing files or network connections, releasing system resources etc. Only use __del__ when you absolutely need to release external resources and can’t use \"with\" or try exception finally block. The __del__ method is used to define what should happen when an object is destroyed, mainly for cleaning up resources. However, its use should be limited and handled carefully."
      ],
      "metadata": {
        "id": "557Fcwc9KK7F"
      }
    },
    {
      "cell_type": "markdown",
      "source": [
        "**Q6) What is the difference between import and from ... import in Python?**"
      ],
      "metadata": {
        "id": "tjDwXAoJKjSo"
      }
    },
    {
      "cell_type": "markdown",
      "source": [
        "- Use of \"import\": Import is used to import the entire module into the current namepace. Syntax is: import module_name, this imports the entire module, and we can access all the functions, variables, or class within that module. This approach of importing the module prevents name clashes if different modules have components within the same name, as each component is clearly associated with its originatiing module.\n"
      ],
      "metadata": {
        "id": "ranV-btbOuJp"
      }
    },
    {
      "cell_type": "code",
      "source": [
        "# use of import\n",
        "import math    # imports the entire module of math into this namespace.\n",
        "print(math.cbrt(125))"
      ],
      "metadata": {
        "colab": {
          "base_uri": "https://localhost:8080/"
        },
        "id": "wc8ovfD8P3wJ",
        "outputId": "79342bf5-17d9-4067-9b07-94ff3ab949a1"
      },
      "execution_count": null,
      "outputs": [
        {
          "output_type": "stream",
          "name": "stdout",
          "text": [
            "5.0\n"
          ]
        }
      ]
    },
    {
      "cell_type": "markdown",
      "source": [
        "- Use of \"from ... module\": This statement is used to import only specific functions, classes or variables from a particular module directly into the curremt namespace. Syntax is: from module_name import component_name. We can use the imported components directly without needing to prefix them with the module name. But this increases the risk of name clashes if we import components with names that already exist in the current namespace."
      ],
      "metadata": {
        "id": "4QPBvh1NQLqt"
      }
    },
    {
      "cell_type": "code",
      "source": [
        "from math import sqrt\n",
        "print(sqrt(25)) # Accessing sqrt function directly without prefixing the module name."
      ],
      "metadata": {
        "colab": {
          "base_uri": "https://localhost:8080/"
        },
        "id": "HZGGVpXZRcHk",
        "outputId": "8fc7f3c0-a007-4233-e271-ca22493fb131"
      },
      "execution_count": null,
      "outputs": [
        {
          "output_type": "stream",
          "name": "stdout",
          "text": [
            "5.0\n"
          ]
        }
      ]
    },
    {
      "cell_type": "markdown",
      "source": [
        "**Q7) How can you handle multiple exceptions in Python?**"
      ],
      "metadata": {
        "id": "Xi41V-rZRsor"
      }
    },
    {
      "cell_type": "markdown",
      "source": [
        "- In Python, multiple exceptions can be handled by:"
      ],
      "metadata": {
        "id": "ymOnhoOS9yqG"
      }
    },
    {
      "cell_type": "code",
      "source": [
        "\"\"\"\n",
        "1) Using multiple except blocks to catch exceptions individually.\n",
        "\"\"\"\n",
        "try:\n",
        "  num1=int(input(\"Enter 1st number:\"))\n",
        "  num2=int(input(\"Enter 2nd number:\"))\n",
        "  result=num1/num2\n",
        "  print(result)\n",
        "except ZeroDivisionError:\n",
        "  print(\"Division by zero is not allowed!\")\n",
        "except ValueError:\n",
        "  print(\"Please enter valid numbers!\")"
      ],
      "metadata": {
        "colab": {
          "base_uri": "https://localhost:8080/"
        },
        "id": "ZsFjr24e-Ew0",
        "outputId": "b388e511-9ebc-40dd-c189-070cd84aa684"
      },
      "execution_count": null,
      "outputs": [
        {
          "output_type": "stream",
          "name": "stdout",
          "text": [
            "Enter 1st number:3\n",
            "Enter 2nd number:0\n",
            "Division by zero is not allowed!\n"
          ]
        }
      ]
    },
    {
      "cell_type": "code",
      "source": [
        "\"\"\"\n",
        "2) Using a single except block with multiple exceptions.\n",
        "\"\"\"\n",
        "try:\n",
        "  num1=int(input(\"Enter 1st number:\"))\n",
        "  num2=int(input(\"Enter 2nd number:\"))\n",
        "  result=num1/num2\n",
        "  print(result)\n",
        "except (ZeroDivisionError,ValueError):\n",
        "  print(\"Invalids inputs!\")"
      ],
      "metadata": {
        "colab": {
          "base_uri": "https://localhost:8080/"
        },
        "id": "T9vxShIH-0EO",
        "outputId": "4345c66f-003d-415f-a12b-12d4f8408915"
      },
      "execution_count": null,
      "outputs": [
        {
          "output_type": "stream",
          "name": "stdout",
          "text": [
            "Enter 1st number:2\n",
            "Enter 2nd number:balu\n",
            "Invalids inputs!\n"
          ]
        }
      ]
    },
    {
      "cell_type": "code",
      "source": [
        "\"\"\"\n",
        "3) Using Exception class to catch all the exceptions.\n",
        "\"\"\"\n",
        "try:\n",
        "  num1=int(input(\"Enter 1st number:\"))\n",
        "  num2=int(input(\"Enter 2nd number:\"))\n",
        "  result=num1/num2\n",
        "  print(result)\n",
        "except Exception as e:\n",
        "  print(\"Error Occurred:\",e)"
      ],
      "metadata": {
        "colab": {
          "base_uri": "https://localhost:8080/"
        },
        "id": "kHFpw3WaAn43",
        "outputId": "c71f3425-8c7e-4e5d-b83f-7992d5e19e83"
      },
      "execution_count": null,
      "outputs": [
        {
          "output_type": "stream",
          "name": "stdout",
          "text": [
            "Enter 1st number:2\n",
            "Enter 2nd number:0\n",
            "Error Occurred: division by zero\n"
          ]
        }
      ]
    },
    {
      "cell_type": "markdown",
      "source": [
        "**Q8) What is the purpose of the with statement when handling files in Python?**"
      ],
      "metadata": {
        "id": "GlNzKc4xG6VU"
      }
    },
    {
      "cell_type": "markdown",
      "source": [
        "- The purpose of the with statement when handling files in Python is to simplify file handling by automatically managing resources, especially the opening and closing of files. The with statement in Python, when used with file handling, serves the primary purpose of ensuring proper resource management, specifically guaranteeing that files are automatically closed after their use, even if errors occur. If an error or exception occurs within the with block while performing file operations, the with statement still guarantees that the file will be closed properly. This is crucial for preventing data corruption or resource exhaustion."
      ],
      "metadata": {
        "id": "n66zAIvPGRxq"
      }
    },
    {
      "cell_type": "markdown",
      "source": [
        "**Q9) What is the difference between multithreading and multiprocessing?**"
      ],
      "metadata": {
        "id": "4yDisX1KHYC4"
      }
    },
    {
      "cell_type": "markdown",
      "source": [
        "- Multithreading:\n",
        "  - Multithreading is a programming technique that allows a program to run multiple threads (smaller units of a process) concurrently within a single process.\n",
        "  - Multithreading involves running multiple threads within a single process, sharing the same memory space.\n",
        "  - All threads share the same memory and resources of the main process.\n",
        "  - In Python, due to the Global Interpreter Lock (GIL), multithreading doesn’t run threads in true parallel for CPU heavy tasks.\n",
        "  - Multithreading allows multiple parts of a program to run at the same time within a single process. It's mainly used to improve performance during I/O operations by utilizing waiting time efficiently."
      ],
      "metadata": {
        "id": "ZdF4sYc-Hwbg"
      }
    },
    {
      "cell_type": "markdown",
      "source": [
        "- Multiprocessing:\n",
        " - Multiprocessing is a programming technique where multiple processes are run simultaneously, with each process having its own memory space.\n",
        " - It is used to achieve true parallelism, especially on systems with multiple CPU cores.\n",
        " - Each process runs independently.\n",
        " - Ideal for CPU-bound tasks like complex calculations and data processing.\n",
        " - Each process has its own memory, so there is no data sharing unless explicitly done.\n",
        " - Bypasses Python’s GIL (Global Interpreter Lock), allowing true parallel execution.\n"
      ],
      "metadata": {
        "id": "VVHW_nyEJ2Yf"
      }
    },
    {
      "cell_type": "markdown",
      "source": [
        "**Q10) What are the advantages of using logging in a program?**"
      ],
      "metadata": {
        "id": "bQrTPstRKk5u"
      }
    },
    {
      "cell_type": "markdown",
      "source": [
        "- Logging in Python is the process of recording messages that describe events happening in a program. It helps in tracking errors, debugging, and understanding the flow of execution. Logging in Python refers to the process of recording events that occur during the execution of a software program. It involves adding calls to the code that, when executed, generate messages containing information about the program's state, errors, warnings, or other significant events.\n",
        "- Advantages of using logging in a program are:\n",
        " - Easier Debugging: Logging helps to track the flow of program and identify where errors occur.\n",
        " - Helps in troubleshooting: Logging helps in identifying something wrong in the production and provides a history of what happened.\n",
        " - Monitoring and auditing: Logs can show user activity or suspicious events for security audits.\n",
        " - Helps in testing: Logging provides visibility into what the code is doing during unit tests or integration testing.\n"
      ],
      "metadata": {
        "id": "YA7HAgLFMLWO"
      }
    },
    {
      "cell_type": "markdown",
      "source": [
        "**Q11) What is memory management in Python?**"
      ],
      "metadata": {
        "id": "uVKt7BR5PpMC"
      }
    },
    {
      "cell_type": "markdown",
      "source": [
        "- Memory management in Python refers to the automatic process by which Python handles the allocation and deallocation of memory for its objects and data structures. Memory management in Python refers to the process of allocating, using, and freeing memory during a program's execution. It ensures that programs use memory efficiently and safely, without leaks or crashes. Unlike languages like C or C++ where developers manually manage memory, Python automates this process, simplifying development and reducing the risk of memory-related errors.\n",
        "- Key components of Memory management in Python are:\n",
        " - Python automatically allocates memory to variables and objects when they are created.\n",
        " - All Python objects and data structures are stored in a private heap, managed by the Python memory manager.\n",
        " - Python has a built-in garbage collector that automatically frees up memory by removing objects that are no longer in use.\n",
        " - Each object in Python has a reference count. When the count drops to zero (no references), the object is automatically deleted.\n",
        " - Python utilizes dynamic memory allocation, meaning memory is allocated and deallocated as the program runs, based on the needs of the objects being created and destroyed."
      ],
      "metadata": {
        "id": "psM6wrQIWYXl"
      }
    },
    {
      "cell_type": "markdown",
      "source": [
        "**Q12) What are the basic steps involved in exception handling in Python?**"
      ],
      "metadata": {
        "id": "iYI4nOq_XNIX"
      }
    },
    {
      "cell_type": "markdown",
      "source": [
        "- Exception handling in Python involves the following basic steps, primarily utilizing try, except, else, and finally blocks.\n",
        "  - try block : The code segment that might raise an exception is enclosed within a try block. Python will attempt to execute the code within this block.\n",
        "  - except block: Immediately following the try block, one or more except blocks are used to specify how to handle different types of exceptions that might occur in the try block. When an exception is raised, Python jumps to the corresponding except block. Except is able to catch multiple exceptions using the Exception class.\n",
        "  - else block: An optional else block can be included after all except blocks. The code within the else block executes only if no exception was raised in the try block.\n",
        "  - finally block:\n",
        "  An optional finally block can be included. The code within the finally block will always execute, regardless of whether an exception occurred in the try block or was handled by an except block. This is commonly used for cleanup tasks like closing files or releasing resources."
      ],
      "metadata": {
        "id": "Tk7I605EXvZI"
      }
    },
    {
      "cell_type": "markdown",
      "source": [
        "**Q13) Why is memory management important in Python?**"
      ],
      "metadata": {
        "id": "mPgfUBXvYZ15"
      }
    },
    {
      "cell_type": "markdown",
      "source": [
        "- Memory management is important in python because:\n",
        "  - Memory management is crucial in Python because it ensures that your program uses memory efficiently, runs smoothly, and doesn’t crash or slow down due to memory leaks or overuse of resources.\n",
        "  - Prevents the program from consuming more memory than needed.\n",
        "  - Helps in running multiple programs simultaneously without exhausting system memory.\n",
        "  - Releasing unused memory allows the program to run faster and smoother, especially in memory-heavy applications like data processing or machine learning.\n",
        "  - Efficient memory usage becomes more critical as your application grows or handles larger datasets.\n",
        "  - Programs with poor memory management may crash due to out-of-memory errors."
      ],
      "metadata": {
        "id": "w1okBryUY1da"
      }
    },
    {
      "cell_type": "markdown",
      "source": [
        "**Q14) What is the role of try and except in exception handling?**"
      ],
      "metadata": {
        "id": "ZCDj1o4MZgtY"
      }
    },
    {
      "cell_type": "markdown",
      "source": [
        "- In Python, the try and except statements are fundamental for exception handling, which allows programs to gracefully manage runtime errors instead of crashing abruptly.\n",
        "  - try block: The try block contains code that might raise an exception. Python monitors this code for any errors during execution. If no exception occurs, the except block is skipped.\n",
        "  - except block: The except block contains code that runs only if an exception occurs in the try block. It handles the error, allowing the program to continue running. We can specify different except blocks to handle different types of exceptions. The except block provides a place to put code that handles the exception gracefully, such as displaying an error message, logging the error, or attempting to recover from the error."
      ],
      "metadata": {
        "id": "j4T3Sds7b6T-"
      }
    },
    {
      "cell_type": "code",
      "source": [
        "# below is and example of exception handling using try except.\n",
        "\n",
        "try:\n",
        "  \"\"\"\n",
        "  try block contains a piece of code that may throw an exception\n",
        "  \"\"\"\n",
        "  num1= int(input(\"Enter 1st number:\"))\n",
        "  num2= int(input(\"Enter 2nd number:\"))\n",
        "  result=num1/num2\n",
        "  print(\"The division of two numbers is:\",result)\n",
        "except Exception as e:\n",
        "  \"\"\"\n",
        "  except block contains a piece of code to handle the exception if exception is thrown\n",
        "  \"\"\"\n",
        "  print(\"Error Occurred:\",e)"
      ],
      "metadata": {
        "colab": {
          "base_uri": "https://localhost:8080/"
        },
        "id": "aMXQfZaxZmco",
        "outputId": "219591d3-45e9-4033-8634-33ed6bee8e67"
      },
      "execution_count": null,
      "outputs": [
        {
          "output_type": "stream",
          "name": "stdout",
          "text": [
            "Enter 1st number:4\n",
            "Enter 2nd number:0\n",
            "Error Occurred: division by zero\n"
          ]
        }
      ]
    },
    {
      "cell_type": "markdown",
      "source": [
        "**Q15) How does Python's garbage collection system work?**"
      ],
      "metadata": {
        "id": "zjFQ-oHVejmh"
      }
    },
    {
      "cell_type": "markdown",
      "source": [
        "- Python's Garbage collector works in the following manner:\n",
        "- Reference counting:\n",
        " - Every object in Python has a reference count associated with it.\n",
        " - This count tells us about how many different variables or data structures are currently pointing to that particular object.\n",
        " - When a new reference to an object is created, its reference count is increased.\n",
        " - When a reference to that object is deleted or goes out of scope, the reference count is decreased.\n",
        " - When the reference count of an object reaches zero, it means the object is no longer in use and the Python interpreter can reclaim the memory occupied by that object.\n",
        " - When an object's reference count drops to zero, it is immediately deleted.\n",
        "- Cyclic Garbage Collector:\n",
        " - Python also has a generational garbage collector to address circular references.\n",
        " - Reference counting fails with circular references.\n",
        " - Circular references occur when objects refer to each other, creating a cycle where reference counts never reach zero even if the objects are no longer accessible from the main program.\n",
        " - The generational garbage collector divides objects into different generations typically three: 0, 1, and 2.\n",
        " - When the garbage collector runs, it first checks the youngest generation (generation 0). If necessary, it checks older generations as well.\n",
        " - The collector identifies unreachable objects and reclaims their memory."
      ],
      "metadata": {
        "id": "zyRaSoBVt5J_"
      }
    },
    {
      "cell_type": "markdown",
      "source": [
        "**Q16) What is the purpose of the else block in exception handling?**"
      ],
      "metadata": {
        "id": "j3LpBskjwACK"
      }
    },
    {
      "cell_type": "markdown",
      "source": [
        "- The else block in Python’s exception handling is optional and is used to define code that should run only if no exception occurs in the try block. The code inside else runs only if the try block succeeds or no exception are raised.It's a way to distinguish between the code that handles exceptions and the code that runs when no exception occurs."
      ],
      "metadata": {
        "id": "R5bNW3dDwYFZ"
      }
    },
    {
      "cell_type": "markdown",
      "source": [
        "**Q17) What are the common logging levels in Python?**"
      ],
      "metadata": {
        "id": "qrAzE_i1xDMB"
      }
    },
    {
      "cell_type": "markdown",
      "source": [
        "\n",
        "- Python provides built-in support for logging through the logging module, and it defines standard logging levels to categorize the severity of events. There are five built-in levels of the log message.\n",
        "  - Debug: These are used to give Detailed information, typically of interest only when diagnosing problems.\n",
        "  - Info: These are used to confirm that things are working as expected.\n",
        "  - Warning: These are used as an indication that something unexpected happened, or will happen.\n",
        "  - Error: This tells that due to a more serious problem, the software has not been able to perform some function.\n",
        "  - Critical: This tells serious error, indicating that the program itself may be unable to continue running because of this error."
      ],
      "metadata": {
        "id": "_0wpABwkxTA7"
      }
    },
    {
      "cell_type": "markdown",
      "source": [
        "**Q18) What is the difference between os.fork() and multiprocessing in Python?**"
      ],
      "metadata": {
        "id": "uiR1HlkJxrDt"
      }
    },
    {
      "cell_type": "markdown",
      "source": [
        "- os.fork(): os.fork() is a low-level system call available on Unix-based systems like Linux, MacOS. It creates a new child process that is initially an exact copy of the parent by duplicating the current process. It requires manual handling of process management and inter-process communication. After forking, both the parent and child processes continue execution independently from the point of the fork() call.\n",
        "- Multiprocessing: This module provides a higher-level, more abstract interface for creating and managing processes. It offers classes like Process, Pool, and Queue that simplify process creation, communication, and synchronization, making it easier to implement parallel programs. It Works on both Windows and Unix, using appropriate methods. This is designed to bypass Python's Global Interpreter Lock (GIL) by running code in separate memory spaces."
      ],
      "metadata": {
        "id": "Xr7Vngld11zr"
      }
    },
    {
      "cell_type": "markdown",
      "source": [
        "**Q19) What is the importance of closing a file in Python?**"
      ],
      "metadata": {
        "id": "ILUpaKnP26H_"
      }
    },
    {
      "cell_type": "markdown",
      "source": [
        "- Importance of closing a file in Python:\n",
        "  - Closing a file in Python using .close() or with statement is crucial for safe, efficient, and error-free file handling.\n",
        "  - Files use operating system resources like file descriptors and memory. Closing a file frees these resources, preventing resource leaks.\n",
        "  - When writing to a file, data is often buffered i.e stored temporarily in memory. Closing the file flushes the buffer and ensures all data is written to the file.\n",
        "  - Incomplete write operations due to unclosed files can result in corrupted or inconsistent data. Properly closing ensures data integrity and safety.\n",
        "  - If a file not closed, other programs or parts of your code can access the file.\n",
        "  - Unclosed files can cause unexpected behavior, memory leaks, or runtime errors."
      ],
      "metadata": {
        "id": "b83TS_lj3A76"
      }
    },
    {
      "cell_type": "markdown",
      "source": [
        "**Q20) What is the difference between file.read() and file.readline() in Python?**"
      ],
      "metadata": {
        "id": "x0BTVPIZ4dNi"
      }
    },
    {
      "cell_type": "markdown",
      "source": [
        "- In Python, file.read() and file.readline() are methods used to read content from a file object, but they differ in how much data they retrieve:\n",
        "  - file.read(): This method reads the entire content of the file and returns it as a single string. If an optional integer argument size is provided, it reads at most size bytes from the file.\n",
        "  - file.readline(): This method reads a single line from the file, including the newline character (\\n) at the end of the line, and returns it as a string. Each subsequent call to readline() reads the next line in the file."
      ],
      "metadata": {
        "id": "h-hubiDPGKbn"
      }
    },
    {
      "cell_type": "code",
      "source": [
        "# USE CASE OF FILE.READ()\n",
        "\n",
        "with open(\"ronaldo.txt\",\"r\") as f:\n",
        "  content= f.read()   # reads the whole content inside the file.\n",
        "print(content)"
      ],
      "metadata": {
        "colab": {
          "base_uri": "https://localhost:8080/"
        },
        "id": "SZhEpqmtGZ6m",
        "outputId": "c1db7810-0a59-4a14-fc66-164df4b2edf9"
      },
      "execution_count": null,
      "outputs": [
        {
          "output_type": "stream",
          "name": "stdout",
          "text": [
            "Ronaldo is portuguese professional football player.\n",
            "He is 40 years old.\n",
            "He never gives up!\n"
          ]
        }
      ]
    },
    {
      "cell_type": "code",
      "source": [
        "# USE CASE OF FILE.READLINE()\n",
        "\n",
        "with open(\"ronaldo.txt\",\"r\") as f:\n",
        "  content = f.readline()   # reads the first line of the file.\n",
        "print(content)"
      ],
      "metadata": {
        "colab": {
          "base_uri": "https://localhost:8080/"
        },
        "id": "QNXMBJ29G7j6",
        "outputId": "fbe7aa50-d3c2-4ea7-84ad-7ccaa4025b70"
      },
      "execution_count": null,
      "outputs": [
        {
          "output_type": "stream",
          "name": "stdout",
          "text": [
            "Ronaldo is portuguese professional football player.\n",
            "\n"
          ]
        }
      ]
    },
    {
      "cell_type": "markdown",
      "source": [
        "**Q21) What is the logging module in Python used for?**"
      ],
      "metadata": {
        "id": "pxJCSKKvHSX-"
      }
    },
    {
      "cell_type": "markdown",
      "source": [
        "- The logging module in Python is used to track events in a program's execution. It allows developers to record information about errors, warnings, and other events that occur during program execution. This helps in debugging, troubleshooting, and monitoring the application's behavior. Instead of using print statements, which are often temporary and lack context, the logging module provides a structured approach to capturing information about program execution. It provides a flexible framework for recording messages about the program's execution, debugging, monitoring and troubleshooting the code."
      ],
      "metadata": {
        "id": "P7Hm4h_uHpjz"
      }
    },
    {
      "cell_type": "markdown",
      "source": [
        "**Q22) What is the os module in Python used for in file handling?**"
      ],
      "metadata": {
        "id": "VXBFM9t7IJTa"
      }
    },
    {
      "cell_type": "markdown",
      "source": [
        "- The Python OS module is essential for file-related tasks, enabling efficient file and directory management in programs. It allows you to easily handle the current working directory, create and delete directories, list files and folders, and perform file operations. The os module in Python is used to interact with the operating system, and in file handling, it provides tools for:\n",
        " - Navigating the file system\n",
        " - Creating, deleting, renaming files and directories\n",
        " - Checking file properties\n",
        " - Managing paths\n",
        "- os module provide various file handling functions. Some functions are:\n",
        "  - os.getcwd() : Returns the current working directory.\n",
        "  - os.chdir(path) : Changes the current working directory.\n",
        "  - os.listdir(path): Returns list of files/folders in a directory.\n",
        "  - os.path.exists(path): Checks if a path exists.\n",
        "  - os.mkdir(path): Creates a single folder."
      ],
      "metadata": {
        "id": "gA5YmxsvIZy4"
      }
    },
    {
      "cell_type": "markdown",
      "source": [
        "**Q23) What are the challenges associated with memory management in Python?**"
      ],
      "metadata": {
        "id": "OtwvFJLlJVMY"
      }
    },
    {
      "cell_type": "markdown",
      "source": [
        "- Memory management in Python is generally handled automatically through reference counting and garbage collection, but there are still several challenges developers may face:\n",
        "  - Memory leaks: It is caused when references to unused objects are not released, preventing the memory from being reclaimed.\n",
        "  - Circular references: A circular reference occurs when two or more objects reference each other, creating a loop that prevents their reference count from reaching zero. When circular references exist, objects may never get deleted because their reference count never hits zero.\n",
        "  - Lack of manual memory control: Python does not allow explicit control over memory. We can’t directly control when memory is released. It depends on the garbage collector to clean up, which may not be immediate.\n",
        "  - Memory Fragmentation: Fragmentation occurs when memory is allocated and deallocated in chunks, leaving small gaps that are hard to reuse efficiently.\n",
        "  Python uses an internal memory manager that groups allocations by object size.\n",
        "  Long running applications that frequently allocate and deallocate memory can cause fragmentation."
      ],
      "metadata": {
        "id": "bKy8gMU0TRIm"
      }
    },
    {
      "cell_type": "markdown",
      "source": [
        "**Q24) How do you raise an exception manually in Python.**"
      ],
      "metadata": {
        "id": "qxcWiDxIA7ky"
      }
    },
    {
      "cell_type": "markdown",
      "source": [
        "- In Python, exceptions can be raised manually using \"raise\" statement."
      ],
      "metadata": {
        "id": "0L5y700dBJaZ"
      }
    },
    {
      "cell_type": "code",
      "source": [
        "# example of raising exception manually\n",
        "\n",
        "def divide(a,b):\n",
        "  if b==0:\n",
        "    raise ZeroDivisionError(\"Division by zero is not allowed!\") # raising exceptions manually\n",
        "  else:\n",
        "    result=a/b\n",
        "    print(f\"Result is {result}\")\n",
        "\n",
        "divide(5,2)\n",
        "divide(2,6)"
      ],
      "metadata": {
        "colab": {
          "base_uri": "https://localhost:8080/"
        },
        "id": "gDn0pfFiBUAt",
        "outputId": "c5a9e7a8-32ac-472b-8775-f9033cce68ad"
      },
      "execution_count": 32,
      "outputs": [
        {
          "output_type": "stream",
          "name": "stdout",
          "text": [
            "Result is 2.5\n",
            "Result is 0.3333333333333333\n"
          ]
        }
      ]
    },
    {
      "cell_type": "markdown",
      "source": [
        "**Q25) Why is it important to use multithreading in certain applications?**"
      ],
      "metadata": {
        "id": "kQqrnwZ3CAu5"
      }
    },
    {
      "cell_type": "markdown",
      "source": [
        "- Multithreading is important for applications where multiple tasks need to be performed concurrently, enhancing performance, responsiveness, and resource utilization. It allows applications to handle multiple operations simultaneously, making them more efficient and user-friendly.\n",
        "- Here is why multithreading is important:\n",
        "  - Enhanced Performance: By dividing a program into smaller, independent threads, multithreading enables parallel execution of tasks, leading to faster overall performance and increased throughput.\n",
        "  - Improved Responsiveness:Applications, especially those with a user interface, stay responsive to user input while background tasks run.\n",
        "  - Better Resource Utilization: On systems with multiple cores, multithreading helps use CPU more efficiently. Multithreading allows applications to make better use of multi-core processors by distributing tasks across multiple cores.\n",
        "  - Real-time Applications: In real-time systems, multithreading is crucial for handling multiple events and data streams concurrently, ensuring timely responses and smooth operation."
      ],
      "metadata": {
        "id": "j0xQkGc4CTJw"
      }
    },
    {
      "cell_type": "markdown",
      "source": [
        "# **PRACTICAL QUESTIONS**"
      ],
      "metadata": {
        "id": "OXC9hSL6q9Fn"
      }
    },
    {
      "cell_type": "markdown",
      "source": [
        "**Q1) How can you open a file for writing in Python and write a string to it?**"
      ],
      "metadata": {
        "id": "bFLFKlnmrKKC"
      }
    },
    {
      "cell_type": "code",
      "source": [
        "# opening a file for writing and write a string\n",
        "with open(\"sample.txt\",\"w\") as f:\n",
        "  f.write(\"Hello!, this is my first program of file handling.\")\n",
        "\n",
        "# opening file for reading the contents of the file\n",
        "with open(\"sample.txt\",\"r\") as f:\n",
        "  print(f.readline())"
      ],
      "metadata": {
        "colab": {
          "base_uri": "https://localhost:8080/"
        },
        "id": "PI9tXJ75rPWn",
        "outputId": "4ed649c8-1abb-4ea1-cd23-8c0f5127754a"
      },
      "execution_count": 24,
      "outputs": [
        {
          "output_type": "stream",
          "name": "stdout",
          "text": [
            "Hello!, this is my first program of file handling.\n"
          ]
        }
      ]
    },
    {
      "cell_type": "markdown",
      "source": [
        "**Q2) Write a Python program to read the contents of a file and print each line?**"
      ],
      "metadata": {
        "id": "afyw5Xk_r9Ov"
      }
    },
    {
      "cell_type": "code",
      "source": [
        "# creating a file and writing the content\n",
        "with open(\"ronaldo.txt\",\"w\") as file:\n",
        "  file.write(\"Ronaldo is portuguese professional football player.\")\n",
        "  file.write(\"\\nHe is 40 years old.\")\n",
        "  file.write(\"\\nHe never gives up!\")\n",
        "\n",
        "# opening the file and reading\n",
        "with open(\"ronaldo.txt\",\"r\") as file:\n",
        "  print(file.read())"
      ],
      "metadata": {
        "colab": {
          "base_uri": "https://localhost:8080/"
        },
        "id": "NOg2PTyEskn4",
        "outputId": "7623a8cd-c543-4c75-c258-1288d3bd9a94"
      },
      "execution_count": 25,
      "outputs": [
        {
          "output_type": "stream",
          "name": "stdout",
          "text": [
            "Ronaldo is portuguese professional football player.\n",
            "He is 40 years old.\n",
            "He never gives up!\n"
          ]
        }
      ]
    },
    {
      "cell_type": "markdown",
      "source": [
        "**Q3) How would you handle a case where the file doesn't exist while trying to open it for reading?**"
      ],
      "metadata": {
        "id": "zeMTOUN6vd_X"
      }
    },
    {
      "cell_type": "code",
      "source": [
        "# handling the case where the file doesn't exist while trying to open for reading\n",
        "\n",
        "file_name=\"sample_data.txt\"\n",
        "try:\n",
        "  with open(file_name,\"r\") as file:\n",
        "    file.read()\n",
        "except FileNotFoundError:\n",
        "  print(f\"File {file_name} not found!\")\n",
        "except Exception as e:\n",
        "  print(\"Unexpected error occurred!\")"
      ],
      "metadata": {
        "colab": {
          "base_uri": "https://localhost:8080/"
        },
        "id": "uMqRk20avkc0",
        "outputId": "697e3e7a-db8f-492e-b86b-a85e2615b0dd"
      },
      "execution_count": 26,
      "outputs": [
        {
          "output_type": "stream",
          "name": "stdout",
          "text": [
            "File sample_data.txt not found!\n"
          ]
        }
      ]
    },
    {
      "cell_type": "markdown",
      "source": [
        "**Q4) Write a Python script that reads from one file and writes its content to another file?**"
      ],
      "metadata": {
        "id": "748kMQoy0Qre"
      }
    },
    {
      "cell_type": "code",
      "source": [
        "src_file=\"ronaldo.txt\"\n",
        "dest_file=\"ronaldo_copy.txt\"\n",
        "\n",
        "try:\n",
        "  with open(src_file,\"r\") as src, open(dest_file,\"w\") as dest:\n",
        "    f = src.read()\n",
        "    dest.write(f)\n",
        "    print(f\"Data copied from {src_file} to {dest_file} successfully!\")\n",
        "except FileNotFoundError:\n",
        "  print(f\"The file {src_file} not found!\")\n",
        "except Exception:\n",
        "  print(\"Unexpected error occurred!\")"
      ],
      "metadata": {
        "id": "9KKLF8Nt0a4K",
        "colab": {
          "base_uri": "https://localhost:8080/"
        },
        "outputId": "b0064d6f-32b1-45ec-9408-0732a80047e0"
      },
      "execution_count": 27,
      "outputs": [
        {
          "output_type": "stream",
          "name": "stdout",
          "text": [
            "Data copied from ronaldo.txt to ronaldo_copy.txt successfully!\n"
          ]
        }
      ]
    },
    {
      "cell_type": "markdown",
      "source": [
        "**Q5) How would you catch and handle division by zero error in Python?**"
      ],
      "metadata": {
        "id": "cs8Q_Ipp3MoQ"
      }
    },
    {
      "cell_type": "code",
      "source": [
        "def division(num1,num2):\n",
        "  try:\n",
        "    result=num1/num2\n",
        "    print(\"The division of two numbers is\",result)\n",
        "  except ZeroDivisionError:\n",
        "    print(\"Division by zero is not allowed!\")\n",
        "  except Exception as e:\n",
        "    print(\"Please pass valid numbers!\")\n",
        "\n",
        "division(2,0)\n",
        "division(3,2)\n",
        "division(\"balu\",2)"
      ],
      "metadata": {
        "colab": {
          "base_uri": "https://localhost:8080/"
        },
        "id": "Dg41Tipw3Tiw",
        "outputId": "3805ab76-0d4f-42b3-f33c-b44e95995f4c"
      },
      "execution_count": 28,
      "outputs": [
        {
          "output_type": "stream",
          "name": "stdout",
          "text": [
            "Division by zero is not allowed!\n",
            "The division of two numbers is 1.5\n",
            "Please pass valid numbers!\n"
          ]
        }
      ]
    },
    {
      "cell_type": "markdown",
      "source": [
        "**Q6) Write a Python program that logs an error message to a log file when a division by zero exception occurs?**"
      ],
      "metadata": {
        "id": "PpPgaIeE4qEd"
      }
    },
    {
      "cell_type": "code",
      "source": [
        "import logging\n",
        "\n",
        "logging.basicConfig(filename='error_log.log',level=logging.ERROR,format='%(message)s')\n",
        "\n",
        "try:\n",
        "    numerator = int(input(\"Enter numerator: \"))\n",
        "    denominator = int(input(\"Enter denominator: \"))\n",
        "    result = numerator / denominator\n",
        "    print(f\"Result: {result}\")\n",
        "except ZeroDivisionError as e:\n",
        "    logging.error(\"User Attempted division by zero, which is not allowed!\")\n",
        "except ValueError as e:\n",
        "    logging.error(\"Invalid inputs\")"
      ],
      "metadata": {
        "colab": {
          "base_uri": "https://localhost:8080/"
        },
        "id": "C1xuX-XX8gT_",
        "outputId": "e3df7273-42a8-4512-abd9-dd5a9cf769c9"
      },
      "execution_count": null,
      "outputs": [
        {
          "name": "stdout",
          "output_type": "stream",
          "text": [
            "Enter numerator: 3\n",
            "Enter denominator: 0\n"
          ]
        },
        {
          "output_type": "stream",
          "name": "stderr",
          "text": [
            "ERROR:root:User Attempted division by zero, which is not allowed!\n"
          ]
        }
      ]
    },
    {
      "cell_type": "markdown",
      "source": [
        "**Q7) How do you log information at different levels (INFO, ERROR, WARNING) in Python using the logging module?**"
      ],
      "metadata": {
        "id": "1LCKvUudHlhL"
      }
    },
    {
      "cell_type": "code",
      "source": [
        "import logging\n",
        "\n",
        "logging.basicConfig(filename=\"error_log.log\",level=logging.DEBUG,format=\"%(message)s\")\n",
        "\n",
        "logging.debug(\"This a DEBUG message.\")\n",
        "logging.info(\"This is INFO message.\")\n",
        "logging.warning(\"This is WARNING message.\")\n",
        "logging.error(\"This is ERROR message.\")\n",
        "logging.critical(\"This is CRITICAL message.\")"
      ],
      "metadata": {
        "colab": {
          "base_uri": "https://localhost:8080/"
        },
        "id": "fo7BC7mfHq77",
        "outputId": "c8a77dac-724e-4611-adc5-287614d90c9f"
      },
      "execution_count": 29,
      "outputs": [
        {
          "output_type": "stream",
          "name": "stderr",
          "text": [
            "WARNING:root:This is WARNING message.\n",
            "ERROR:root:This is ERROR message.\n",
            "CRITICAL:root:This is CRITICAL message.\n"
          ]
        }
      ]
    },
    {
      "cell_type": "markdown",
      "source": [
        "**Q8) Write a program to handle a file opening error using exception handling?**"
      ],
      "metadata": {
        "id": "PV_nHqXuUXdc"
      }
    },
    {
      "cell_type": "code",
      "source": [
        "file_path = 'sample_info.txt'\n",
        "\n",
        "try:\n",
        "    with open(file_path, 'r') as file:\n",
        "        content = file.read()\n",
        "        print(\"File content:\\n\", content)\n",
        "except FileNotFoundError:\n",
        "    print(f\"The file '{file_path}' was not found!\")\n",
        "except Exception:\n",
        "    print(f\"An unexpected error occurred!\")"
      ],
      "metadata": {
        "colab": {
          "base_uri": "https://localhost:8080/"
        },
        "id": "xsBs_nCYUf16",
        "outputId": "6f0e2462-5bcc-4599-8aa0-0628335c9d10"
      },
      "execution_count": 30,
      "outputs": [
        {
          "output_type": "stream",
          "name": "stdout",
          "text": [
            "The file 'sample_info.txt' was not found!\n"
          ]
        }
      ]
    },
    {
      "cell_type": "markdown",
      "source": [
        "**Q9) How can you read a file line by line and store its content in a list in Python?**"
      ],
      "metadata": {
        "id": "sMKik8_1yBFF"
      }
    },
    {
      "cell_type": "code",
      "source": [
        "\n",
        "try:\n",
        "  with open(\"ronaldo.txt\",\"r\") as file:\n",
        "    list_content = [line.strip() for line in file]\n",
        "except FileNotFoundError:\n",
        "  print(\"The file not found!\")\n",
        "print(list_content)"
      ],
      "metadata": {
        "colab": {
          "base_uri": "https://localhost:8080/"
        },
        "id": "0koLbKlyyAE3",
        "outputId": "d25eac37-41c6-4a5a-ed74-1563438231b4"
      },
      "execution_count": null,
      "outputs": [
        {
          "output_type": "stream",
          "name": "stdout",
          "text": [
            "['Ronaldo is portuguese professional football player.', 'He is 40 years old.', 'He never gives up!']\n"
          ]
        }
      ]
    },
    {
      "cell_type": "markdown",
      "source": [
        "**Q10) How can you append data to an existing file in Python?**"
      ],
      "metadata": {
        "id": "kvqr6zmBz5zv"
      }
    },
    {
      "cell_type": "code",
      "source": [
        "# append the existing file\n",
        "\n",
        "with open(\"sample.txt\",\"a\") as file:              # accessing file in append mode\n",
        "    file.write(\"\\nThis is the second line of this file.\")\n",
        "\n",
        "with open(\"sample.txt\",\"r\") as file:\n",
        "  a= file.read()\n",
        "  print(a)"
      ],
      "metadata": {
        "colab": {
          "base_uri": "https://localhost:8080/"
        },
        "id": "k8PrewZHz_gz",
        "outputId": "0eb7820d-305d-4657-fe1e-e5d3562dd69f"
      },
      "execution_count": null,
      "outputs": [
        {
          "output_type": "stream",
          "name": "stdout",
          "text": [
            "Hello!, this is my first program of file handling.\n",
            "This is the second line of this file.\n"
          ]
        }
      ]
    },
    {
      "cell_type": "markdown",
      "source": [
        "**Q11) Write a Python program that uses a try-except block to handle an error when attempting to access a\n",
        "dictionary key that doesn't exist.**"
      ],
      "metadata": {
        "id": "RRqQ8qeO1UnA"
      }
    },
    {
      "cell_type": "code",
      "source": [
        "\n",
        "ages = {'Balu': 30, 'Adarsh': 28, 'Rahul': 33}\n",
        "person = input('Get age for: ')\n",
        "\n",
        "try:\n",
        "    print(f'{person} is {ages[person]} years old.')\n",
        "except KeyError:\n",
        "    print(f\"{person}'s age is unknown.\")"
      ],
      "metadata": {
        "colab": {
          "base_uri": "https://localhost:8080/"
        },
        "id": "7uQRDCzH1ga-",
        "outputId": "09752b90-5459-412d-daea-6b84b058b6a6"
      },
      "execution_count": null,
      "outputs": [
        {
          "output_type": "stream",
          "name": "stdout",
          "text": [
            "Get age for: Parth\n",
            "Parth's age is unknown.\n"
          ]
        }
      ]
    },
    {
      "cell_type": "markdown",
      "source": [
        "**Q12) Write a program that demonstrates using multiple except blocks to handle different types of exceptions.**"
      ],
      "metadata": {
        "id": "ni_zGnAn3zSD"
      }
    },
    {
      "cell_type": "code",
      "source": [
        "# handling multiple exceptions using multiple except blocks\n",
        "\n",
        "def exceptions_function():\n",
        "  try:\n",
        "    num1= int(input(\"Enter first number:\"))\n",
        "    num2= int(input(\"Enter Second number:\"))\n",
        "    div_result= num1/num2\n",
        "    add_result=num1+num2\n",
        "    print(\"Division of the two numbers:\",div_result)\n",
        "    print(\"Addition of the two numbers:\",add_result)\n",
        "  except ZeroDivisionError:\n",
        "    print(\"Division with zero is not allowed!\")\n",
        "  except ValueError:\n",
        "    print(\"Please enter valid numbers.\")\n",
        "  except Exception:\n",
        "    print(\"An unexpected error occurred!\")\n",
        "\n",
        "exceptions_function()"
      ],
      "metadata": {
        "colab": {
          "base_uri": "https://localhost:8080/"
        },
        "id": "Grqdab9W35MP",
        "outputId": "7985ed88-03d6-4351-ba19-b2347b923b45"
      },
      "execution_count": null,
      "outputs": [
        {
          "output_type": "stream",
          "name": "stdout",
          "text": [
            "Enter first number:6\n",
            "Enter Second number:0\n",
            "Division with zero is not allowed!\n"
          ]
        }
      ]
    },
    {
      "cell_type": "markdown",
      "source": [
        "**Q13) How would you check if a file exists before attempting to read it in Python?**"
      ],
      "metadata": {
        "id": "_UIOt2PU9ifD"
      }
    },
    {
      "cell_type": "code",
      "source": [
        "import os\n",
        "\n",
        "file_name=\"ronaldo.txt\"\n",
        "\n",
        "if os.path.exists(file_name):\n",
        "  try:\n",
        "    with open(file_name,\"r\") as file:\n",
        "      content=file.read()\n",
        "      print(content)\n",
        "  except Exception:\n",
        "    print(\"Error loading the file!\")\n",
        "else:\n",
        "  print(f\"{file_name} doesn't exist!\")"
      ],
      "metadata": {
        "colab": {
          "base_uri": "https://localhost:8080/"
        },
        "id": "AfxzK6po9yPe",
        "outputId": "c2a40116-1681-405b-f1a4-52dc8fd075bc"
      },
      "execution_count": null,
      "outputs": [
        {
          "output_type": "stream",
          "name": "stdout",
          "text": [
            "Ronaldo is portuguese professional football player.\n",
            "He is 40 years old.\n",
            "He never gives up!Ronaldo is not married!Ronaldo is not married!\n",
            "Ronaldo is not married!\n"
          ]
        }
      ]
    },
    {
      "cell_type": "markdown",
      "source": [
        "**Q14) Write a program that uses the logging module to log both informational and error messages.**"
      ],
      "metadata": {
        "id": "XN7qd0so-1A9"
      }
    },
    {
      "cell_type": "code",
      "source": [
        "import logging\n",
        "\n",
        "logging.basicConfig(filename=\"error_log.log\",level=logging.DEBUG,format=\"%(message)s\")\n",
        "\n",
        "try:\n",
        "  num1 = int(input(\"Enter first number:\"))\n",
        "  num2 = int(input(\"Enter second number:\"))\n",
        "  result= num1/num2\n",
        "  logging.info(\"The operation is successful!\",result)\n",
        "except ZeroDivisionError:\n",
        "  logging.error(\"Division by zero is not allowed!\")\n",
        "except Exception:\n",
        "  logging.critical(\"Some unusual error occurred!\")"
      ],
      "metadata": {
        "colab": {
          "base_uri": "https://localhost:8080/"
        },
        "id": "Ka6eSkwT-6AW",
        "outputId": "cdeef14e-2e08-4a17-e5b6-3bc4efcc76d7"
      },
      "execution_count": null,
      "outputs": [
        {
          "name": "stdout",
          "output_type": "stream",
          "text": [
            "Enter first number:4\n",
            "Enter second number:0\n"
          ]
        },
        {
          "output_type": "stream",
          "name": "stderr",
          "text": [
            "ERROR:root:Division by zero is not allowed!\n"
          ]
        }
      ]
    },
    {
      "cell_type": "markdown",
      "source": [
        "**Q15) Write a Python program that prints the content of a file and handles the case when the file is empty.**"
      ],
      "metadata": {
        "id": "VEFxXwd1HGZ4"
      }
    },
    {
      "cell_type": "code",
      "source": [
        "\n",
        "file_name=\"sample1.txt\"\n",
        "\n",
        "try:\n",
        "  with open(file_name,\"r\") as file:\n",
        "    content = file.read()\n",
        "    if not content:\n",
        "      print(f\"Nothing to read! {file_name} is empty.\")\n",
        "    else:\n",
        "      print(content)\n",
        "except FileNotFoundError:\n",
        "  print(\"The file you are trying to read does not exist!\")\n",
        "except Exception:\n",
        "  print(\"An unexpected error occurred!\")"
      ],
      "metadata": {
        "colab": {
          "base_uri": "https://localhost:8080/"
        },
        "id": "TmWHkHqqHzoL",
        "outputId": "77d184ea-c324-4ef8-e81a-6c1bc888900f"
      },
      "execution_count": null,
      "outputs": [
        {
          "output_type": "stream",
          "name": "stdout",
          "text": [
            "Nothing to read! sample1.txt is empty.\n"
          ]
        }
      ]
    },
    {
      "cell_type": "markdown",
      "source": [
        "**Q16) Demonstrate how to use memory profiling to check the memory usage of a small program.**"
      ],
      "metadata": {
        "id": "1BgZKtNOJlAy"
      }
    },
    {
      "cell_type": "code",
      "source": [
        "from memory_profiler import profile\n",
        "\n",
        "@profile\n",
        "def sample_func():\n",
        "  x=[i for i in range(1,10)]\n",
        "  return x\n",
        "\n",
        "sample_func()"
      ],
      "metadata": {
        "collapsed": true,
        "id": "xev0ZzhLJsot"
      },
      "execution_count": null,
      "outputs": []
    },
    {
      "cell_type": "markdown",
      "source": [
        "![Screenshot 2025-07-16 131533.jpg](data:image/jpeg;base64,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)"
      ],
      "metadata": {
        "id": "0gPqXhPCMXfr"
      }
    },
    {
      "cell_type": "markdown",
      "source": [
        "**Q17) Write a Python program to create and write a list of numbers to a file, one number per line.**"
      ],
      "metadata": {
        "id": "07lJDga1M8o9"
      }
    },
    {
      "cell_type": "code",
      "source": [
        "sample_list=[1,2,3,4,5,6,7,8,9,10]\n",
        "\n",
        "with open(\"numbers.txt\",\"w\") as file:\n",
        "  for i in sample_list:\n",
        "    file.write(str(i)+\"\\n\")\n",
        "\n",
        "with open(\"numbers.txt\",\"r\") as file:\n",
        "  content = file.read()\n",
        "  print(content)"
      ],
      "metadata": {
        "colab": {
          "base_uri": "https://localhost:8080/"
        },
        "id": "z8faxo5yND3h",
        "outputId": "c3e5b0fc-8dc5-4d99-8626-10bd39ed1715"
      },
      "execution_count": null,
      "outputs": [
        {
          "output_type": "stream",
          "name": "stdout",
          "text": [
            "1\n",
            "2\n",
            "3\n",
            "4\n",
            "5\n",
            "6\n",
            "7\n",
            "8\n",
            "9\n",
            "10\n",
            "\n"
          ]
        }
      ]
    },
    {
      "cell_type": "markdown",
      "source": [
        "**Q18)  How would you implement a basic logging setup that logs to a file with rotation after 1M.**"
      ],
      "metadata": {
        "id": "xWTrv7tqO-4E"
      }
    },
    {
      "cell_type": "code",
      "source": [
        "import logging\n",
        "from logging.handlers import RotatingFileHandler\n",
        "\n",
        "handler = RotatingFileHandler(\"error_log.log\",maxBytes=1 * 1024 * 1024,backupCount=5)\n",
        "logging.basicConfig(filename=\"error_log.log\",level=logging.DEBUG,format=\"%(message)s\",handlers=handler)\n",
        "\n",
        "logging.debug(\"This is a debug message.\")\n",
        "logging.info(\"This is an info message.\")\n",
        "logging.warning(\"This is a warning.\")\n",
        "logging.error(\"This is an error message.\")\n",
        "logging.critical(\"This is critical.\")"
      ],
      "metadata": {
        "colab": {
          "base_uri": "https://localhost:8080/"
        },
        "id": "xe94VlroN5fy",
        "outputId": "d1b43ce1-fbeb-411a-b595-002bd0c21462"
      },
      "execution_count": 33,
      "outputs": [
        {
          "output_type": "stream",
          "name": "stderr",
          "text": [
            "WARNING:root:This is a warning.\n",
            "ERROR:root:This is an error message.\n",
            "CRITICAL:root:This is critical.\n"
          ]
        }
      ]
    },
    {
      "cell_type": "markdown",
      "source": [
        "**Q19) Write a program that handles both IndexError and KeyError using a try-except block.**"
      ],
      "metadata": {
        "id": "mxhLz4ttR2_G"
      }
    },
    {
      "cell_type": "code",
      "source": [
        "my_list = [10, 20, 30]\n",
        "my_dict = {\"Balu\":26,\"Adarsh\":27}\n",
        "\n",
        "try:\n",
        "  print(\"Accessing list index 5:\", my_list[5])\n",
        "  print(\"Accessing dictionary key 'Rahul':\", my_dict['Rahul'])\n",
        "except (IndexError,KeyError) as e:\n",
        "  print(\"Error occurred:\",e)"
      ],
      "metadata": {
        "id": "my-tsGCpR4hL",
        "colab": {
          "base_uri": "https://localhost:8080/"
        },
        "outputId": "ec0a078b-9891-449d-97dd-529f8724d2fc"
      },
      "execution_count": 2,
      "outputs": [
        {
          "output_type": "stream",
          "name": "stdout",
          "text": [
            "Error occurred: list index out of range\n"
          ]
        }
      ]
    },
    {
      "cell_type": "markdown",
      "source": [
        "**Q20) How would you open a file and read its contents using a context manager in Python.**"
      ],
      "metadata": {
        "id": "UcPPWDgX1V6I"
      }
    },
    {
      "cell_type": "code",
      "source": [
        "file_path = 'ronaldo.txt'\n",
        "\n",
        "try:\n",
        "    with open(file_path, 'r') as file:\n",
        "        contents = file.read()\n",
        "        print(contents)\n",
        "except FileNotFoundError:\n",
        "    print(\"The file was not found.\")"
      ],
      "metadata": {
        "colab": {
          "base_uri": "https://localhost:8080/"
        },
        "id": "M2S5mG301Z59",
        "outputId": "4742f748-55c7-4ba0-c77d-8728000034b5"
      },
      "execution_count": 6,
      "outputs": [
        {
          "output_type": "stream",
          "name": "stdout",
          "text": [
            "Ronaldo is portuguese professional football player.\n",
            "He is 40 years old.\n",
            "He never gives up!\n"
          ]
        }
      ]
    },
    {
      "cell_type": "markdown",
      "source": [
        "**Q21) Write a Python program that reads a file and prints the number of occurrences of a specific word.**"
      ],
      "metadata": {
        "id": "XC6wcAxb2Cv0"
      }
    },
    {
      "cell_type": "code",
      "source": [
        "word= input(\"Enter the word you want to search in the file:\")\n",
        "\n",
        "with open(\"test.txt\",\"r\") as file:\n",
        "  content = file.read()\n",
        "  if word in content:\n",
        "    print(f\"The number of occurrences of the word '{word}'' in the file is:\",content.count(word))\n",
        ""
      ],
      "metadata": {
        "colab": {
          "base_uri": "https://localhost:8080/"
        },
        "id": "WghDn-Yy2bAg",
        "outputId": "e15d7f07-b933-4045-ff89-990524882908"
      },
      "execution_count": 19,
      "outputs": [
        {
          "output_type": "stream",
          "name": "stdout",
          "text": [
            "Enter the word you want to search in the file:happy\n",
            "The number of occurrences of the word 'happy'' in the file is 4\n"
          ]
        }
      ]
    },
    {
      "cell_type": "markdown",
      "source": [
        "**Q22) How can you check if a file is empty before attempting to read its contents.**"
      ],
      "metadata": {
        "id": "iWUs3_nv47Kn"
      }
    },
    {
      "cell_type": "code",
      "source": [
        "import os\n",
        "\n",
        "file_path = 'ronaldo.txt'\n",
        "\n",
        "if os.path.exists(file_path) and os.path.getsize(file_path) == 0:\n",
        "    print(\"The file is empty.\")\n",
        "else:\n",
        "    with open(file_path, 'r') as file:\n",
        "        content = file.read()\n",
        "        print(\"File content:\",content)"
      ],
      "metadata": {
        "colab": {
          "base_uri": "https://localhost:8080/"
        },
        "id": "acrpznY51BrW",
        "outputId": "4fcad6a3-b182-43eb-aa89-90c933bb6f9a"
      },
      "execution_count": 21,
      "outputs": [
        {
          "output_type": "stream",
          "name": "stdout",
          "text": [
            "File content: Ronaldo is portuguese professional football player.\n",
            "He is 40 years old.\n",
            "He never gives up!\n"
          ]
        }
      ]
    },
    {
      "cell_type": "markdown",
      "source": [
        "Q23) Write a Python program that writes to a log file when an error occurs during file handling."
      ],
      "metadata": {
        "id": "f56W58NJ5eWb"
      }
    },
    {
      "cell_type": "code",
      "source": [
        "import logging\n",
        "\n",
        "file_path = 'ronaldo.txt'\n",
        "\n",
        "logging.basicConfig(filename='error_log.log',level=logging.ERROR,format='%(message)s')\n",
        "\n",
        "try:\n",
        "  with open(file_path, 'r') as file:\n",
        "    contents = file.read()\n",
        "    print(\"File contents:\", contents)\n",
        "except FileNotFoundError as e:\n",
        "  logging.error(f\"FileNotFoundError: {e}\")\n",
        "  print(\"Error: The file was not found.\")\n",
        "except Exception as e:\n",
        "  logging.error(f\"Error occurred: {e}\")\n",
        "  print(\"An unexpected error occurred while reading the file.\")"
      ],
      "metadata": {
        "colab": {
          "base_uri": "https://localhost:8080/"
        },
        "id": "9lIq3U0Q8iPL",
        "outputId": "a3716ca3-0f12-49d9-a531-2e5a4eba79e9"
      },
      "execution_count": 23,
      "outputs": [
        {
          "output_type": "stream",
          "name": "stdout",
          "text": [
            "File contents: Ronaldo is portuguese professional football player.\n",
            "He is 40 years old.\n",
            "He never gives up!\n"
          ]
        }
      ]
    }
  ]
}